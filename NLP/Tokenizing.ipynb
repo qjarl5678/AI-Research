{
 "cells": [
  {
   "cell_type": "code",
   "id": "4f5bdd1a-5b7a-43b5-8631-d9a2c16f8000",
   "metadata": {
    "ExecuteTime": {
     "end_time": "2024-12-10T06:36:13.097588Z",
     "start_time": "2024-12-10T06:36:11.166071Z"
    }
   },
   "source": [
    "#코모란\n",
    "from konlpy.tag import Komoran\n",
    "komoran = Komoran()"
   ],
   "outputs": [],
   "execution_count": 4
  },
  {
   "metadata": {
    "ExecuteTime": {
     "end_time": "2024-12-10T06:37:42.976096Z",
     "start_time": "2024-12-10T06:37:42.967926Z"
    }
   },
   "cell_type": "code",
   "source": [
    "text = \"자연어 처리 공부를 시작해서 재미를 느끼고 있습니다.\"\n",
    "morphs = komoran.morphs(text)   # morphs = 입력값을 형태소 단위로 토크나이징 진행\n",
    "print(morphs)"
   ],
   "id": "e082eb912ac5f1bf",
   "outputs": [
    {
     "name": "stdout",
     "output_type": "stream",
     "text": [
      "['자연어', '처리', '공부', '를', '시작', '하', '아서', '재미', '를', '느끼', '고', '있', '습니다', '.']\n"
     ]
    }
   ],
   "execution_count": 7
  },
  {
   "metadata": {
    "ExecuteTime": {
     "end_time": "2024-12-10T06:38:45.375074Z",
     "start_time": "2024-12-10T06:38:45.369057Z"
    }
   },
   "cell_type": "code",
   "source": [
    "pos = komoran.pos(text) # pos = 형태소 추출 후 품사 태깅을 진행, 결과값은 형태소와 품사의 튜플 리스트\n",
    "print(pos) "
   ],
   "id": "3adc89d1b6ba2efb",
   "outputs": [
    {
     "name": "stdout",
     "output_type": "stream",
     "text": [
      "[('자연어', 'NNP'), ('처리', 'NNG'), ('공부', 'NNG'), ('를', 'JKO'), ('시작', 'NNG'), ('하', 'XSV'), ('아서', 'EC'), ('재미', 'NNG'), ('를', 'JKO'), ('느끼', 'VV'), ('고', 'EC'), ('있', 'VX'), ('습니다', 'EF'), ('.', 'SF')]\n"
     ]
    }
   ],
   "execution_count": 9
  },
  {
   "metadata": {
    "ExecuteTime": {
     "end_time": "2024-12-10T06:39:10.833981Z",
     "start_time": "2024-12-10T06:39:10.827847Z"
    }
   },
   "cell_type": "code",
   "source": [
    "nouns = komoran.nouns(text) #nouns = 명사만 추출\n",
    "print(nouns)"
   ],
   "id": "3c7d2b6a5c832690",
   "outputs": [
    {
     "name": "stdout",
     "output_type": "stream",
     "text": [
      "['자연어', '처리', '공부', '시작', '재미']\n"
     ]
    }
   ],
   "execution_count": 11
  },
  {
   "metadata": {
    "ExecuteTime": {
     "end_time": "2024-12-10T06:40:22.781510Z",
     "start_time": "2024-12-10T06:40:22.777705Z"
    }
   },
   "cell_type": "code",
   "source": [
    "# 꼬꼬마\n",
    "from konlpy.tag import Kkma\n",
    "kkma = Kkma()\n",
    "text = '자연어 처리 공부는 재밌습니다.'"
   ],
   "id": "54cd056db068372e",
   "outputs": [],
   "execution_count": 13
  },
  {
   "metadata": {
    "ExecuteTime": {
     "end_time": "2024-12-10T06:41:30.750806Z",
     "start_time": "2024-12-10T06:41:30.640325Z"
    }
   },
   "cell_type": "code",
   "source": [
    "# 꼬꼬마도 똑같음\n",
    "morphs = kkma.morphs(text)\n",
    "print(morphs)\n",
    "\n",
    "pos = kkma.pos(text)\n",
    "print(pos)\n",
    "\n",
    "nouns = kkma.nouns(text)\n",
    "print(nouns)"
   ],
   "id": "ed9e30014421e2e2",
   "outputs": [
    {
     "name": "stdout",
     "output_type": "stream",
     "text": [
      "['자연어', '처리', '공부', '는', '재밌', '습니다', '.']\n",
      "[('자연어', 'NNG'), ('처리', 'NNG'), ('공부', 'NNG'), ('는', 'JX'), ('재밌', 'VA'), ('습니다', 'EFN'), ('.', 'SF')]\n",
      "['자연어', '처리', '공부']\n"
     ]
    }
   ],
   "execution_count": 16
  },
  {
   "metadata": {
    "ExecuteTime": {
     "end_time": "2024-12-10T06:43:01.458807Z",
     "start_time": "2024-12-10T06:43:01.442641Z"
    }
   },
   "cell_type": "code",
   "source": [
    "# 하지만 꼬꼬마에는 문장 분리 함수가 있음 바로 sentences\n",
    "sentences = '이제 진짜 겨울이야! 너무 추워서 손이 꽁꽁꽁'\n",
    "s = kkma.sentences(sentences)\n",
    "print(s)    "
   ],
   "id": "e22ecad8f3ab6f92",
   "outputs": [
    {
     "name": "stdout",
     "output_type": "stream",
     "text": [
      "['이제 진짜 겨울이야!', '너무 추워서 손이 꽁꽁 꽁']\n"
     ]
    }
   ],
   "execution_count": 18
  },
  {
   "metadata": {
    "ExecuteTime": {
     "end_time": "2024-12-10T06:43:51.571073Z",
     "start_time": "2024-12-10T06:43:51.567124Z"
    }
   },
   "cell_type": "code",
   "source": [
    "# Okt\n",
    "from konlpy.tag import Okt\n",
    "okt = Okt()\n",
    "text = \"노는게 제일 좋아.\""
   ],
   "id": "7150ebcc61b1599d",
   "outputs": [],
   "execution_count": 20
  },
  {
   "metadata": {
    "ExecuteTime": {
     "end_time": "2024-12-10T06:45:07.789739Z",
     "start_time": "2024-12-10T06:45:07.766449Z"
    }
   },
   "cell_type": "code",
   "source": [
    "morphs = okt.morphs(text)\n",
    "print(morphs)\n",
    "\n",
    "pos = okt.pos(text)\n",
    "print(pos)\n",
    "\n",
    "nouns = okt.nouns(text)\n",
    "print(nouns)\n",
    "\n",
    "# 속도는 제일 빠르지만 정확도가 저 둘에 비에 떨어짐"
   ],
   "id": "b15e6cddf0f1cac5",
   "outputs": [
    {
     "name": "stdout",
     "output_type": "stream",
     "text": [
      "['노는게', '제일', '좋아', '.']\n",
      "[('노는게', 'Verb'), ('제일', 'Noun'), ('좋아', 'Adjective'), ('.', 'Punctuation')]\n",
      "['제일']\n"
     ]
    }
   ],
   "execution_count": 22
  },
  {
   "metadata": {
    "ExecuteTime": {
     "end_time": "2024-12-10T06:46:55.325001Z",
     "start_time": "2024-12-10T06:46:55.305887Z"
    }
   },
   "cell_type": "code",
   "source": [
    "text = \"안녕하세요 저는 얼룩말 입니닼ㅋㅋㅋㅎㅎ\"\n",
    "\n",
    "normalize = okt.normalize(text) # 오타 섞인 문장을 정규화 할 수 있음\n",
    "print(normalize)\n",
    "\n",
    "phrases = okt.phrases(text) # 입력값을 어구 단위로 추출\n",
    "print(phrases)"
   ],
   "id": "663ceeb24fa75c1e",
   "outputs": [
    {
     "name": "stdout",
     "output_type": "stream",
     "text": [
      "안녕하세요 저는 얼룩말 입니다ㅋㅋㅋㅎㅎ\n",
      "['얼룩말', '얼룩말 입니닼', '입니닼']\n"
     ]
    }
   ],
   "execution_count": 24
  }
 ],
 "metadata": {
  "kernelspec": {
   "display_name": "Python 3 (ipykernel)",
   "language": "python",
   "name": "python3"
  },
  "language_info": {
   "codemirror_mode": {
    "name": "ipython",
    "version": 3
   },
   "file_extension": ".py",
   "mimetype": "text/x-python",
   "name": "python",
   "nbconvert_exporter": "python",
   "pygments_lexer": "ipython3",
   "version": "3.12.4"
  }
 },
 "nbformat": 4,
 "nbformat_minor": 5
}
