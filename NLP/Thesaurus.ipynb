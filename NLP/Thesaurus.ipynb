{
 "cells": [
  {
   "cell_type": "code",
   "id": "b57bc512-3711-46dc-9377-8aade023d5a4",
   "metadata": {
    "ExecuteTime": {
     "end_time": "2024-11-29T05:05:54.627426Z",
     "start_time": "2024-11-29T05:05:54.564287Z"
    }
   },
   "source": [
    "#thesaurus\n",
    "\n",
    "import nltk;\n",
    "# nltk.download('wordnet')\n",
    "# print(nltk.data.path)\n",
    "from nltk.corpus import wordnet\n",
    "\n",
    "# 동의어 or 유의어 등 데이터셋 확인\n",
    "print(wordnet.synsets('car'))\n"
   ],
   "outputs": [
    {
     "name": "stdout",
     "output_type": "stream",
     "text": [
      "[Synset('car.n.01'), Synset('car.n.02'), Synset('car.n.03'), Synset('car.n.04'), Synset('cable_car.n.01')]\n"
     ]
    }
   ],
   "execution_count": 10
  },
  {
   "metadata": {
    "ExecuteTime": {
     "end_time": "2024-11-29T05:07:49.195650Z",
     "start_time": "2024-11-29T05:07:49.190651Z"
    }
   },
   "cell_type": "code",
   "source": [
    "# 의미 확인\n",
    "car = wordnet.synset('car.n.01')\n",
    "print(car.definition())\n"
   ],
   "id": "430c9eb89b5ef51a",
   "outputs": [
    {
     "name": "stdout",
     "output_type": "stream",
     "text": [
      "a motor vehicle with four wheels; usually propelled by an internal combustion engine\n"
     ]
    }
   ],
   "execution_count": 14
  },
  {
   "metadata": {
    "ExecuteTime": {
     "end_time": "2024-11-29T05:08:34.135168Z",
     "start_time": "2024-11-29T05:08:34.130175Z"
    }
   },
   "cell_type": "code",
   "source": [
    "# 표제어에 속한 동의어 데이터 확인\n",
    "print(car.lemma_names())"
   ],
   "id": "c57e64351fece6e",
   "outputs": [
    {
     "name": "stdout",
     "output_type": "stream",
     "text": [
      "['car', 'auto', 'automobile', 'machine', 'motorcar']\n"
     ]
    }
   ],
   "execution_count": 16
  },
  {
   "metadata": {
    "ExecuteTime": {
     "end_time": "2024-11-29T05:10:10.932664Z",
     "start_time": "2024-11-29T05:10:10.928555Z"
    }
   },
   "cell_type": "code",
   "source": [
    "# 다른 단어와의 의미적 상관관계\n",
    "print(car.hypernym_paths())"
   ],
   "id": "7256ac08cbbc68c4",
   "outputs": [
    {
     "name": "stdout",
     "output_type": "stream",
     "text": [
      "[[Synset('entity.n.01'), Synset('physical_entity.n.01'), Synset('object.n.01'), Synset('whole.n.02'), Synset('artifact.n.01'), Synset('instrumentality.n.03'), Synset('container.n.01'), Synset('wheeled_vehicle.n.01'), Synset('self-propelled_vehicle.n.01'), Synset('motor_vehicle.n.01'), Synset('car.n.01')], [Synset('entity.n.01'), Synset('physical_entity.n.01'), Synset('object.n.01'), Synset('whole.n.02'), Synset('artifact.n.01'), Synset('instrumentality.n.03'), Synset('conveyance.n.03'), Synset('vehicle.n.01'), Synset('wheeled_vehicle.n.01'), Synset('self-propelled_vehicle.n.01'), Synset('motor_vehicle.n.01'), Synset('car.n.01')]]\n"
     ]
    }
   ],
   "execution_count": 18
  },
  {
   "metadata": {
    "ExecuteTime": {
     "end_time": "2024-11-29T05:10:52.523286Z",
     "start_time": "2024-11-29T05:10:52.519246Z"
    }
   },
   "cell_type": "code",
   "source": [
    "# 단어간의 유사도\n",
    "car = wordnet.synset('car.n.01')\n",
    "cat = wordnet.synset('cat.n.01')\n",
    "\n",
    "print(car.path_similarity(cat))"
   ],
   "id": "b80a14726e6382bd",
   "outputs": [
    {
     "name": "stdout",
     "output_type": "stream",
     "text": [
      "0.05555555555555555\n"
     ]
    }
   ],
   "execution_count": 20
  }
 ],
 "metadata": {
  "kernelspec": {
   "display_name": "Python 3 (ipykernel)",
   "language": "python",
   "name": "python3"
  },
  "language_info": {
   "codemirror_mode": {
    "name": "ipython",
    "version": 3
   },
   "file_extension": ".py",
   "mimetype": "text/x-python",
   "name": "python",
   "nbconvert_exporter": "python",
   "pygments_lexer": "ipython3",
   "version": "3.12.4"
  }
 },
 "nbformat": 4,
 "nbformat_minor": 5
}
