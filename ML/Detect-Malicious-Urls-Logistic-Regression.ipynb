{
 "cells": [
  {
   "metadata": {
    "ExecuteTime": {
     "end_time": "2025-02-18T01:31:46.104637Z",
     "start_time": "2025-02-18T01:31:45.050916Z"
    }
   },
   "cell_type": "code",
   "source": [
    "import math\n",
    "from collections import Counter\n",
    "import random\n",
    "\n",
    "from sklearn.feature_extraction.text import TfidfVectorizer\n",
    "from sklearn.linear_model import LogisticRegression\n",
    "from sklearn.model_selection import train_test_split\n",
    "\n",
    "# ML 기반 의심스러운 URL 탐지\n",
    "\n",
    "# entropy를 이용해 데이터의 불확실성 측정\n",
    "def entropy(s):\n",
    "    p, lns = Counter(s), float(len(s))  \n",
    "    return -sum(count/lns * math.log(count/lns, 2) for count in p.values())"
   ],
   "id": "c31513c545cee7ff",
   "outputs": [],
   "execution_count": 8
  },
  {
   "metadata": {
    "ExecuteTime": {
     "end_time": "2025-02-18T01:27:07.687755Z",
     "start_time": "2025-02-18T01:27:07.681225Z"
    }
   },
   "cell_type": "code",
   "source": [
    "\n",
    "# url을 . , - , / 기준으로 tokenization 수행 (com은 너무 많아서 제거) => vector로 변환\n",
    "\n",
    "def getTokens(input):\n",
    "    tokensBySlash = str(input.encode('utf-8')).split('/')  \n",
    "    allTokens = []\n",
    "    for i in tokensBySlash:\n",
    "        tokens = str(i).split('-')  \n",
    "        tokensByDot = []\n",
    "        for j in range(0, len(tokens)):\n",
    "            tempTokens = str(tokens[j]).split('.')  \n",
    "            tokensByDot = tokensByDot + tempTokens\n",
    "        allTokens = allTokens + tokens + tokensByDot\n",
    "    allTokens = list(set(allTokens))  \n",
    "    if 'com' in allTokens:\n",
    "        allTokens.remove('com')  \n",
    "    return allTokens\n"
   ],
   "id": "9b9c8336fb2d70ca",
   "outputs": [],
   "execution_count": 3
  },
  {
   "metadata": {
    "ExecuteTime": {
     "end_time": "2025-02-18T01:27:10.962725Z",
     "start_time": "2025-02-18T01:27:09.687084Z"
    }
   },
   "cell_type": "code",
   "source": [
    "import numpy as np\n",
    "import pandas as pd\n",
    "\n",
    "urlCsv = pd.read_csv('./dataset/url_dataset.csv')\n",
    "urlData = pd.DataFrame(urlCsv)\n",
    "\n",
    "print(urlData.head())\n",
    "\n",
    "urlData = np.array(urlData)\n",
    "random.shuffle(urlData)\n",
    "\n"
   ],
   "id": "77b73f6518008243",
   "outputs": [
    {
     "name": "stdout",
     "output_type": "stream",
     "text": [
      "                      url label\n",
      "0  diaryofagameaddict.com   bad\n",
      "1        espdesign.com.au   bad\n",
      "2      iamagameaddict.com   bad\n",
      "3           kalantzis.net   bad\n",
      "4   slightlyoffcenter.net   bad\n"
     ]
    }
   ],
   "execution_count": 4
  },
  {
   "metadata": {
    "ExecuteTime": {
     "end_time": "2025-02-18T01:32:20.585485Z",
     "start_time": "2025-02-18T01:32:13.487772Z"
    }
   },
   "cell_type": "code",
   "source": [
    "y = [d[1] for d in urlData]\n",
    "corpus = [d[0] for d in urlData]\n",
    "vectorizer = TfidfVectorizer(tokenizer=getTokens, token_pattern=None)\n",
    "X = vectorizer.fit_transform(corpus)"
   ],
   "id": "c808644296049cf5",
   "outputs": [],
   "execution_count": 10
  },
  {
   "metadata": {
    "ExecuteTime": {
     "end_time": "2025-02-18T01:32:27.729672Z",
     "start_time": "2025-02-18T01:32:23.312970Z"
    }
   },
   "cell_type": "code",
   "source": [
    "X_train, X_test, y_train, y_test = train_test_split(X,y,test_size=0.2, random_state=42)\n",
    "lgs = LogisticRegression()\n",
    "lgs.fit(X_train, y_train)\n",
    "\n",
    "print(lgs.score(X_test, y_test))"
   ],
   "id": "ad76c930b1dd962a",
   "outputs": [
    {
     "name": "stdout",
     "output_type": "stream",
     "text": [
      "0.9795345629243813\n"
     ]
    }
   ],
   "execution_count": 11
  },
  {
   "metadata": {
    "ExecuteTime": {
     "end_time": "2025-02-18T01:34:28.102170Z",
     "start_time": "2025-02-18T01:34:28.095484Z"
    }
   },
   "cell_type": "code",
   "source": [
    "X_predict = [\n",
    "    'example.com', \n",
    "    'secure-bank.com/login',\n",
    "    'malware-site.ru/download/trojan.exe',\n",
    "    'shopping-site.com/product?id=12345',\n",
    "    'phishing-login.net/account_verification',\n",
    "    'safe-site.org',\n",
    "    'unknown-source.biz/update.exe',\n",
    "    'techsupport-fake.com/install-helper.exe',\n",
    "    'secure-payment.io/checkout',\n",
    "    'random-site.net/home'\n",
    "]\n",
    "\n",
    "X_predict = vectorizer.transform(X_predict)\n",
    "y_Predict = lgs.predict(X_predict)\n",
    "print(y_Predict)"
   ],
   "id": "3b6610600700f481",
   "outputs": [
    {
     "name": "stdout",
     "output_type": "stream",
     "text": [
      "['bad' 'bad' 'bad' 'good' 'bad' 'bad' 'bad' 'bad' 'bad' 'bad']\n"
     ]
    }
   ],
   "execution_count": 13
  }
 ],
 "metadata": {
  "kernelspec": {
   "display_name": "Python 3",
   "language": "python",
   "name": "python3"
  },
  "language_info": {
   "codemirror_mode": {
    "name": "ipython",
    "version": 2
   },
   "file_extension": ".py",
   "mimetype": "text/x-python",
   "name": "python",
   "nbconvert_exporter": "python",
   "pygments_lexer": "ipython2",
   "version": "2.7.6"
  }
 },
 "nbformat": 4,
 "nbformat_minor": 5
}
