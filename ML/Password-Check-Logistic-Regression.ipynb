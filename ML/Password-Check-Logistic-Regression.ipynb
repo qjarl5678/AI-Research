{
 "cells": [
  {
   "cell_type": "code",
   "id": "initial_id",
   "metadata": {
    "collapsed": true,
    "ExecuteTime": {
     "end_time": "2025-02-11T04:55:36.856488Z",
     "start_time": "2025-02-11T04:55:36.851536Z"
    }
   },
   "source": [
    "import pandas as pd\n",
    "import numpy as np\n",
    "import random\n",
    "from sklearn.feature_extraction.text import TfidfVectorizer\n",
    "from sklearn.linear_model import LogisticRegression\n",
    "from sklearn.model_selection import train_test_split\n",
    "from sklearn.multiclass import OneVsRestClassifier"
   ],
   "outputs": [],
   "execution_count": 48
  },
  {
   "metadata": {
    "ExecuteTime": {
     "end_time": "2025-02-11T04:55:39.740790Z",
     "start_time": "2025-02-11T04:55:39.122161Z"
    }
   },
   "cell_type": "code",
   "source": [
    "pass_file = './dataset/passwd_data.csv'\n",
    "data = pd.read_csv(pass_file, sep =',', on_bad_lines='skip', header=0)\n",
    "data = data.dropna()\n",
    "passwords = data.values.tolist()\n",
    "\n",
    "print(data.columns)\n",
    "print(data['strength'].unique())\n",
    "print(data.head())"
   ],
   "id": "f924a105249f7259",
   "outputs": [
    {
     "name": "stdout",
     "output_type": "stream",
     "text": [
      "Index(['password', 'strength'], dtype='object')\n",
      "[1 2 0]\n",
      "      password  strength\n",
      "0     kzde5577         1\n",
      "1     kino3434         1\n",
      "2    visi7k1yr         1\n",
      "3     megzy123         1\n",
      "4  lamborghin1         1\n"
     ]
    }
   ],
   "execution_count": 49
  },
  {
   "metadata": {
    "ExecuteTime": {
     "end_time": "2025-02-11T04:55:41.186420Z",
     "start_time": "2025-02-11T04:55:40.867651Z"
    }
   },
   "cell_type": "code",
   "source": [
    "\n",
    "random.shuffle(passwords)\n",
    "y = data.iloc[:, 1].values\n",
    "allpasswd = data.iloc[:,0].values"
   ],
   "id": "c4dd191acabe5823",
   "outputs": [],
   "execution_count": 50
  },
  {
   "metadata": {
    "ExecuteTime": {
     "end_time": "2025-02-11T04:55:46.295413Z",
     "start_time": "2025-02-11T04:55:42.767200Z"
    }
   },
   "cell_type": "code",
   "source": [
    "vectorizer = TfidfVectorizer(token_pattern=r'.')\n",
    "X = vectorizer.fit_transform(allpasswd)\n",
    "\n",
    "X_train, X_test, y_train, y_test = train_test_split(X,y, test_size=0.2, random_state=42)"
   ],
   "id": "eee9c0a5b6ee3919",
   "outputs": [],
   "execution_count": 51
  },
  {
   "metadata": {
    "ExecuteTime": {
     "end_time": "2025-02-11T04:55:52.096495Z",
     "start_time": "2025-02-11T04:55:47.996211Z"
    }
   },
   "cell_type": "code",
   "source": [
    "lgs = OneVsRestClassifier(LogisticRegression(penalty='l2'))\n",
    "lgs.fit(X_train, y_train)\n",
    "print(lgs.score(X_test, y_test))"
   ],
   "id": "8f480ec3a1e8b964",
   "outputs": [
    {
     "name": "stdout",
     "output_type": "stream",
     "text": [
      "0.8132728032972941\n"
     ]
    }
   ],
   "execution_count": 52
  },
  {
   "metadata": {
    "ExecuteTime": {
     "end_time": "2025-02-11T04:55:53.096946Z",
     "start_time": "2025-02-11T04:55:53.088784Z"
    }
   },
   "cell_type": "code",
   "source": [
    "X_predict_raw = [\n",
    "    'john_doe123', 'john_doe!@#', 'johnDoe2024', 'doeJohn_789',\n",
    "    'securepass99', 'Pa$$w0rd123!', 'qwerty!@#$%', 'random_9823*',\n",
    "    'hackerproof_42', 'p@ssW0rd9876', 'letmein_567', 'strongP@ss2025',\n",
    "    'abcdefg123!', 'ghijklmnop!@#$', 'user2024_secure', 'myP@ssw0rd!',\n",
    "    'super_secure_999', 'dontguessme_123', 'qazwsxedc2024!', 'pass_!@#_safe', '123456', 'abcdef'\n",
    "]\n",
    "\n",
    "X_predict = vectorizer.transform(X_predict_raw)\n",
    "y_Predict = lgs.predict(X_predict)\n",
    "\n",
    "# 라벨 매핑 (숫자 → 문자열)\n",
    "label_mapping = {0: 'easy', 1: 'medium', 2: 'strong'}\n",
    "y_Predict_mapped = [label_mapping[pred] for pred in y_Predict]  # 변환 적용\n",
    "\n",
    "# 출력\n",
    "for password, prediction in zip(X_predict_raw, y_Predict_mapped):\n",
    "    print(f\"🔹 Password: {password} → Predicted Strength: {prediction}\")\n"
   ],
   "id": "60845b074cba6aab",
   "outputs": [
    {
     "name": "stdout",
     "output_type": "stream",
     "text": [
      "🔹 Password: john_doe123 → Predicted Strength: strong\n",
      "🔹 Password: john_doe!@# → Predicted Strength: strong\n",
      "🔹 Password: johnDoe2024 → Predicted Strength: medium\n",
      "🔹 Password: doeJohn_789 → Predicted Strength: strong\n",
      "🔹 Password: securepass99 → Predicted Strength: medium\n",
      "🔹 Password: Pa$$w0rd123! → Predicted Strength: strong\n",
      "🔹 Password: qwerty!@#$% → Predicted Strength: strong\n",
      "🔹 Password: random_9823* → Predicted Strength: strong\n",
      "🔹 Password: hackerproof_42 → Predicted Strength: strong\n",
      "🔹 Password: p@ssW0rd9876 → Predicted Strength: strong\n",
      "🔹 Password: letmein_567 → Predicted Strength: strong\n",
      "🔹 Password: strongP@ss2025 → Predicted Strength: strong\n",
      "🔹 Password: abcdefg123! → Predicted Strength: strong\n",
      "🔹 Password: ghijklmnop!@#$ → Predicted Strength: strong\n",
      "🔹 Password: user2024_secure → Predicted Strength: medium\n",
      "🔹 Password: myP@ssw0rd! → Predicted Strength: strong\n",
      "🔹 Password: super_secure_999 → Predicted Strength: medium\n",
      "🔹 Password: dontguessme_123 → Predicted Strength: strong\n",
      "🔹 Password: qazwsxedc2024! → Predicted Strength: strong\n",
      "🔹 Password: pass_!@#_safe → Predicted Strength: strong\n",
      "🔹 Password: 123456 → Predicted Strength: medium\n",
      "🔹 Password: abcdef → Predicted Strength: easy\n"
     ]
    }
   ],
   "execution_count": 53
  }
 ],
 "metadata": {
  "kernelspec": {
   "display_name": "Python 3",
   "language": "python",
   "name": "python3"
  },
  "language_info": {
   "codemirror_mode": {
    "name": "ipython",
    "version": 2
   },
   "file_extension": ".py",
   "mimetype": "text/x-python",
   "name": "python",
   "nbconvert_exporter": "python",
   "pygments_lexer": "ipython2",
   "version": "2.7.6"
  }
 },
 "nbformat": 4,
 "nbformat_minor": 5
}
